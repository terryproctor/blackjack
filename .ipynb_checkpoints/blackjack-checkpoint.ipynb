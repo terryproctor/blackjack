{
 "cells": [
  {
   "cell_type": "markdown",
   "id": "d228bb05",
   "metadata": {},
   "source": [
    "BlackJack Python Terminal game"
   ]
  },
  {
   "cell_type": "code",
   "execution_count": 1,
   "id": "5dee9b14",
   "metadata": {},
   "outputs": [],
   "source": [
    "import random"
   ]
  },
  {
   "cell_type": "code",
   "execution_count": 2,
   "id": "2fd8ef09",
   "metadata": {},
   "outputs": [],
   "source": [
    "class Deck:\n",
    "    def new_deck(self):\n",
    "        deck = 4*[x for x in range(2, 11)]\n",
    "        deck.sort()\n",
    "        tens = ['J', 'Q', 'K']\n",
    "        ace = 'A'\n",
    "        deck += 4*tens\n",
    "        deck += ['A' for a in range(4)]\n",
    "        return deck\n",
    "    \n",
    "    def __init__(self):\n",
    "        self.cards = self.new_deck()\n",
    "    \n",
    "    def select_random_card(self):\n",
    "        return random.choice(self.cards)\n",
    "    \n",
    "    def deal_card(self, player, card_deck):\n",
    "        if len(card_deck.cards) > 0:\n",
    "            selection = self.select_random_card()\n",
    "            player.cards.append(selection)\n",
    "            card_deck.cards.remove(selection)\n"
   ]
  },
  {
   "cell_type": "code",
   "execution_count": 14,
   "id": "9bff1cc3",
   "metadata": {},
   "outputs": [],
   "source": [
    "class Player:\n",
    "    def __init__(self, chips=0, banker=False, cards=None, value=0):\n",
    "        self.chips = chips\n",
    "        self.banker = banker\n",
    "        self.cards = []\n",
    "        self.value = value\n",
    "        "
   ]
  },
  {
   "cell_type": "code",
   "execution_count": 29,
   "id": "db5505c1",
   "metadata": {},
   "outputs": [],
   "source": [
    "class Game:\n",
    "    def __init__(self):\n",
    "        self.player1 = Player(chips=500)\n",
    "        self.banker = Player(banker=True)\n",
    "        self.card_deck = Deck()\n",
    "    \n",
    "    def deal_first_cards(self):\n",
    "        for i in range(2):\n",
    "            game.card_deck.deal_card(self.player1, game.card_deck)\n",
    "            game.card_deck.deal_card(self.banker, game.card_deck)\n",
    "    \n",
    "    \n",
    "        "
   ]
  },
  {
   "cell_type": "code",
   "execution_count": 30,
   "id": "ffcd94a4",
   "metadata": {},
   "outputs": [],
   "source": [
    "game = Game()"
   ]
  },
  {
   "cell_type": "code",
   "execution_count": 31,
   "id": "b915c957",
   "metadata": {},
   "outputs": [],
   "source": [
    "game.deal_first_cards()"
   ]
  },
  {
   "cell_type": "code",
   "execution_count": 32,
   "id": "f2993226",
   "metadata": {},
   "outputs": [
    {
     "data": {
      "text/plain": [
       "[3, 10]"
      ]
     },
     "execution_count": 32,
     "metadata": {},
     "output_type": "execute_result"
    }
   ],
   "source": [
    "game.player1.cards"
   ]
  },
  {
   "cell_type": "code",
   "execution_count": 33,
   "id": "625bc7d9",
   "metadata": {},
   "outputs": [
    {
     "data": {
      "text/plain": [
       "[6, 3]"
      ]
     },
     "execution_count": 33,
     "metadata": {},
     "output_type": "execute_result"
    }
   ],
   "source": [
    "game.banker.cards"
   ]
  },
  {
   "cell_type": "markdown",
   "id": "58f44d13",
   "metadata": {},
   "source": [
    "list gotcha error\n",
    "https://www.codecademy.com/courses/learn-intermediate-python-3/articles/python-gotcha-mutable-default-arguments"
   ]
  },
  {
   "cell_type": "code",
   "execution_count": 34,
   "id": "8d3ea583",
   "metadata": {},
   "outputs": [
    {
     "data": {
      "text/plain": [
       "48"
      ]
     },
     "execution_count": 34,
     "metadata": {},
     "output_type": "execute_result"
    }
   ],
   "source": [
    "len(game.card_deck.cards)"
   ]
  },
  {
   "cell_type": "code",
   "execution_count": null,
   "id": "bc6b64c7",
   "metadata": {},
   "outputs": [],
   "source": []
  }
 ],
 "metadata": {
  "kernelspec": {
   "display_name": "Python 3",
   "language": "python",
   "name": "python3"
  },
  "language_info": {
   "codemirror_mode": {
    "name": "ipython",
    "version": 3
   },
   "file_extension": ".py",
   "mimetype": "text/x-python",
   "name": "python",
   "nbconvert_exporter": "python",
   "pygments_lexer": "ipython3",
   "version": "3.8.8"
  }
 },
 "nbformat": 4,
 "nbformat_minor": 5
}
