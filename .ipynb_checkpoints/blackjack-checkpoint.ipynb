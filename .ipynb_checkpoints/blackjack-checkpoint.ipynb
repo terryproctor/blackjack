{
 "cells": [
  {
   "cell_type": "markdown",
   "id": "d228bb05",
   "metadata": {},
   "source": [
    "BlackJack Python Terminal game"
   ]
  },
  {
   "cell_type": "code",
   "execution_count": 1,
   "id": "5dee9b14",
   "metadata": {},
   "outputs": [],
   "source": [
    "import random"
   ]
  },
  {
   "cell_type": "code",
   "execution_count": 2,
   "id": "2fd8ef09",
   "metadata": {},
   "outputs": [],
   "source": [
    "class Deck:\n",
    "    def new_deck(self):\n",
    "        deck = 4*[x for x in range(2, 11)]\n",
    "        deck.sort()\n",
    "        tens = ['J', 'Q', 'K']\n",
    "        ace = 'A'\n",
    "        deck += 4*tens\n",
    "        deck += ['A' for a in range(4)]\n",
    "        return deck\n",
    "    \n",
    "    def __init__(self):\n",
    "        self.cards = self.new_deck()\n",
    "    \n",
    "    def select_random_card(self):\n",
    "        return random.choice(self.cards)\n",
    "    \n",
    "    def deal_card(self, player, card_deck):\n",
    "        if len(card_deck.cards) == 0:\n",
    "            self.cards = self.new_deck()\n",
    "        selection = self.select_random_card()\n",
    "        player.cards.append(selection)\n",
    "        card_deck.cards.remove(selection)\n"
   ]
  },
  {
   "cell_type": "code",
   "execution_count": 3,
   "id": "9bff1cc3",
   "metadata": {},
   "outputs": [],
   "source": [
    "class Player:\n",
    "    def __init__(self, chips=0, banker=False, cards=None, value=0, bust=False, blackjack= False):\n",
    "        self.chips = chips\n",
    "        self.banker = banker\n",
    "        self.cards = []\n",
    "        self.value = value\n",
    "        self.bust = bust\n",
    "        self.blackjack = False\n",
    "        \n",
    "    def check_blackjack(self):\n",
    "        if self.value == 21:\n",
    "            blackjack = True\n",
    "            return True\n",
    "    \n",
    "    def check_bust(self):\n",
    "        if self.value > 21:\n",
    "            self.bust = True\n",
    "            return True\n",
    "        else:\n",
    "            self.bust = False\n",
    "            return False\n",
    "    \n",
    "    def check_value(self):\n",
    "        tens = ['J', 'Q', 'K']\n",
    "        for card in self.cards:\n",
    "            if card not in tens and card != 'A':\n",
    "                self.value += card\n",
    "            elif card in tens:\n",
    "                self.value += 10\n",
    "            elif card == 'A':\n",
    "                if self.value + 11 <= 21:\n",
    "                    self.value += 11\n",
    "                else:\n",
    "                    self.value += 1\n",
    "        self.check_bust()\n",
    "    "
   ]
  },
  {
   "cell_type": "code",
   "execution_count": 4,
   "id": "db5505c1",
   "metadata": {},
   "outputs": [],
   "source": [
    "class Game:\n",
    "    def __init__(self):\n",
    "        self.player1 = Player(chips=500)\n",
    "        self.banker = Player(banker=True)\n",
    "        self.card_deck = Deck()\n",
    "    \n",
    "    def deal_first_cards(self):\n",
    "        for i in range(2):\n",
    "            game.card_deck.deal_card(self.player1, game.card_deck)\n",
    "            game.card_deck.deal_card(self.banker, game.card_deck)\n",
    "        "
   ]
  },
  {
   "cell_type": "code",
   "execution_count": 5,
   "id": "ffcd94a4",
   "metadata": {},
   "outputs": [],
   "source": [
    "game = Game()"
   ]
  },
  {
   "cell_type": "code",
   "execution_count": 6,
   "id": "b915c957",
   "metadata": {},
   "outputs": [],
   "source": [
    "game.deal_first_cards()"
   ]
  },
  {
   "cell_type": "code",
   "execution_count": 7,
   "id": "625bc7d9",
   "metadata": {
    "scrolled": true
   },
   "outputs": [
    {
     "data": {
      "text/plain": [
       "[9, 'K']"
      ]
     },
     "execution_count": 7,
     "metadata": {},
     "output_type": "execute_result"
    }
   ],
   "source": [
    "game.banker.cards"
   ]
  },
  {
   "cell_type": "code",
   "execution_count": 8,
   "id": "416512ba",
   "metadata": {},
   "outputs": [
    {
     "data": {
      "text/plain": [
       "['Q', 'Q']"
      ]
     },
     "execution_count": 8,
     "metadata": {},
     "output_type": "execute_result"
    }
   ],
   "source": [
    "game.player1.cards"
   ]
  },
  {
   "cell_type": "markdown",
   "id": "58f44d13",
   "metadata": {},
   "source": [
    "list gotcha error\n",
    "https://www.codecademy.com/courses/learn-intermediate-python-3/articles/python-gotcha-mutable-default-arguments"
   ]
  },
  {
   "cell_type": "code",
   "execution_count": 9,
   "id": "8d3ea583",
   "metadata": {},
   "outputs": [
    {
     "data": {
      "text/plain": [
       "48"
      ]
     },
     "execution_count": 9,
     "metadata": {},
     "output_type": "execute_result"
    }
   ],
   "source": [
    "len(game.card_deck.cards)"
   ]
  },
  {
   "cell_type": "code",
   "execution_count": 10,
   "id": "bc6b64c7",
   "metadata": {},
   "outputs": [],
   "source": [
    "game.player1.check_value()"
   ]
  },
  {
   "cell_type": "code",
   "execution_count": 11,
   "id": "5875739d",
   "metadata": {},
   "outputs": [
    {
     "data": {
      "text/plain": [
       "False"
      ]
     },
     "execution_count": 11,
     "metadata": {},
     "output_type": "execute_result"
    }
   ],
   "source": [
    "game.player1.bust"
   ]
  },
  {
   "cell_type": "code",
   "execution_count": 12,
   "id": "1d3abff3",
   "metadata": {},
   "outputs": [],
   "source": [
    "game.player1.check_blackjack()"
   ]
  },
  {
   "cell_type": "code",
   "execution_count": null,
   "id": "3d1fe881",
   "metadata": {},
   "outputs": [],
   "source": []
  }
 ],
 "metadata": {
  "kernelspec": {
   "display_name": "Python 3",
   "language": "python",
   "name": "python3"
  },
  "language_info": {
   "codemirror_mode": {
    "name": "ipython",
    "version": 3
   },
   "file_extension": ".py",
   "mimetype": "text/x-python",
   "name": "python",
   "nbconvert_exporter": "python",
   "pygments_lexer": "ipython3",
   "version": "3.8.8"
  }
 },
 "nbformat": 4,
 "nbformat_minor": 5
}
