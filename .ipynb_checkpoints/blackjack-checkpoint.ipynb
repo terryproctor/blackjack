{
 "cells": [
  {
   "cell_type": "markdown",
   "id": "d228bb05",
   "metadata": {},
   "source": [
    "BlackJack Python Terminal game"
   ]
  },
  {
   "cell_type": "code",
   "execution_count": 1,
   "id": "5dee9b14",
   "metadata": {},
   "outputs": [],
   "source": [
    "import random"
   ]
  },
  {
   "cell_type": "code",
   "execution_count": 2,
   "id": "2fd8ef09",
   "metadata": {},
   "outputs": [],
   "source": [
    "class Deck:\n",
    "    def new_deck(self):\n",
    "        deck = 4*[x for x in range(2, 11)]\n",
    "        deck.sort()\n",
    "        tens = ['J', 'Q', 'K']\n",
    "        ace = 'A'\n",
    "        deck += 4*tens\n",
    "        deck += ['A' for a in range(4)]\n",
    "        return deck\n",
    "    \n",
    "    def __init__(self):\n",
    "        self.cards = self.new_deck()\n",
    "    \n",
    "    def select_random_card(self):\n",
    "        return random.choice(self.cards)\n",
    "    \n",
    "    def deal_card(self, player):\n",
    "        if len(self.cards) == 0:\n",
    "            self.cards = self.new_deck()\n",
    "        selection = self.select_random_card()\n",
    "        player.cards.append(selection)\n",
    "        self.cards.remove(selection)\n",
    "        return selection"
   ]
  },
  {
   "cell_type": "code",
   "execution_count": 3,
   "id": "9bff1cc3",
   "metadata": {},
   "outputs": [],
   "source": [
    "class Player:\n",
    "    def __init__(self, name, chips=0, banker=False, cards=None, value=0, bust=False, blackjack= False):\n",
    "        self.chips = chips\n",
    "        self.banker = banker\n",
    "        self.cards = []\n",
    "        self.value = value\n",
    "        self.bust = bust\n",
    "        self.blackjack = False\n",
    "        self.name = name\n",
    "        \n",
    "    def check_blackjack(self):\n",
    "        if self.value == 21:\n",
    "            self.blackjack = True\n",
    "            return True\n",
    "    \n",
    "    def check_bust(self):\n",
    "        if self.value > 21:\n",
    "            self.bust = True\n",
    "            return True\n",
    "        else:\n",
    "            self.bust = False\n",
    "            return False\n",
    "    \n",
    "    def check_value(self):\n",
    "        value = 0\n",
    "        tens = ['J', 'Q', 'K']\n",
    "        for card in self.cards:\n",
    "            if card not in tens and card != 'A':\n",
    "                value += card\n",
    "            elif card in tens:\n",
    "                value += 10\n",
    "            elif card == 'A':\n",
    "                if value + 11 <= 21:\n",
    "                    value += 11\n",
    "                else:\n",
    "                    value += 1\n",
    "        self.value = value\n",
    "        print(f\"New card: {card}, total: {self.value}\")\n",
    "        if self.check_bust():\n",
    "            \n",
    "            print(\"You're bust!\")\n",
    "        return value"
   ]
  },
  {
   "cell_type": "code",
   "execution_count": 4,
   "id": "db5505c1",
   "metadata": {},
   "outputs": [],
   "source": [
    "class Game:\n",
    "    def __init__(self):\n",
    "        self.player1 = Player(chips=500, name = \"Player 1\")\n",
    "        self.banker = Player(banker=True, name = \"Dealer\")\n",
    "        self.card_deck = Deck()\n",
    "        self.players = [self.player1, self.banker]\n",
    "    \n",
    "    def deal_first_cards(self):\n",
    "        for i in range(2):\n",
    "            self.card_deck.deal_card(self.player1)\n",
    "            self.card_deck.deal_card(self.banker)\n",
    "        self.player1.check_value()\n",
    "        self.banker.check_value()\n",
    "        if self.player1.check_blackjack():\n",
    "            print(\"Player has Blackjack!\")\n",
    "        if self.banker.check_blackjack():\n",
    "            print(\"Banker has Blackjack!\")\n",
    "        \n",
    "        self.display_cards()\n",
    "            \n",
    "    def display_cards(self):\n",
    "        print(f\"Player 1 cards: {self.player1.cards}, value: {self.player1.value}\")\n",
    "        print(f\"Banker cards: {self.banker.cards}, value: {self.banker.value}\")\n",
    "        \n",
    "    def turn(self, player):\n",
    "        # player's go\n",
    "        stick = False\n",
    "        while stick == False:\n",
    "            option = input(\"Do you want to stick or twist?\")\n",
    "            while option not in ['stick', 'twist']:\n",
    "                option = input(\"Please insert a valid option. \\nDo you want to stick or twist?\")\n",
    "            option = option\n",
    "            if option == 'twist':\n",
    "                self.card_deck.deal_card(player)\n",
    "                player.check_value()\n",
    "                if player.bust:\n",
    "                    break\n",
    "            if option == 'stick':\n",
    "                stick = True\n",
    "        # banker's go\n",
    "        print(\"Dealer's go\")\n",
    "        if player.bust == False:\n",
    "            while player.value > self.banker.value:\n",
    "                self.card_deck.deal_card(self.banker)\n",
    "                self.banker.check_value()\n",
    "                if self.banker.value == 21:\n",
    "                    print(\"Dealer sticks\")\n",
    "                    break\n",
    "                if self.banker.bust:\n",
    "                    print(\"Dealer's bust\")\n",
    "                    break\n",
    "                elif self.banker.value >= player.value:\n",
    "                    print(\"Dealer sticks\")\n",
    "                    break\n",
    "    \n",
    "    def who_wins(self):\n",
    "        winning_score = 0\n",
    "        for player in self.players:\n",
    "            if player.bust == False and player.value > winning_score:\n",
    "                winning_score = player.value\n",
    "                winner = player\n",
    "        return winner\n",
    "    \n",
    "    def round_winner(self):\n",
    "        win = self.who_wins()\n",
    "        print(f\"{win.name} wins!\")"
   ]
  },
  {
   "cell_type": "code",
   "execution_count": 5,
   "id": "ffcd94a4",
   "metadata": {},
   "outputs": [],
   "source": [
    "game = Game()"
   ]
  },
  {
   "cell_type": "code",
   "execution_count": 6,
   "id": "b915c957",
   "metadata": {},
   "outputs": [
    {
     "name": "stdout",
     "output_type": "stream",
     "text": [
      "New card: 5, total: 15\n",
      "New card: 2, total: 13\n",
      "Player 1 cards: ['J', 5], value: 15\n",
      "Banker cards: ['A', 2], value: 13\n"
     ]
    }
   ],
   "source": [
    "game.deal_first_cards()"
   ]
  },
  {
   "cell_type": "code",
   "execution_count": 7,
   "id": "c0e8eee8",
   "metadata": {},
   "outputs": [
    {
     "name": "stdout",
     "output_type": "stream",
     "text": [
      "Do you want to stick or twist?twist\n",
      "New card: 10, total: 25\n",
      "You're bust!\n",
      "Dealer's go\n"
     ]
    }
   ],
   "source": [
    "game.turn(game.player1)"
   ]
  },
  {
   "cell_type": "code",
   "execution_count": 8,
   "id": "ff1e751e",
   "metadata": {},
   "outputs": [
    {
     "name": "stdout",
     "output_type": "stream",
     "text": [
      "Player 1 cards: ['J', 5, 10], value: 25\n",
      "Banker cards: ['A', 2], value: 13\n"
     ]
    }
   ],
   "source": [
    "game.display_cards()"
   ]
  },
  {
   "cell_type": "code",
   "execution_count": 9,
   "id": "a446ec5c",
   "metadata": {},
   "outputs": [
    {
     "name": "stdout",
     "output_type": "stream",
     "text": [
      "25\n",
      "13\n"
     ]
    }
   ],
   "source": [
    "for player in game.players:\n",
    "    print(player.value)"
   ]
  },
  {
   "cell_type": "code",
   "execution_count": 10,
   "id": "dac52dc5",
   "metadata": {},
   "outputs": [
    {
     "name": "stdout",
     "output_type": "stream",
     "text": [
      "Dealer wins!\n"
     ]
    }
   ],
   "source": [
    "game.round_winner()"
   ]
  },
  {
   "cell_type": "code",
   "execution_count": 11,
   "id": "b474ad76",
   "metadata": {},
   "outputs": [
    {
     "data": {
      "text/plain": [
       "True"
      ]
     },
     "execution_count": 11,
     "metadata": {},
     "output_type": "execute_result"
    }
   ],
   "source": [
    "game.player1.bust"
   ]
  },
  {
   "cell_type": "code",
   "execution_count": 12,
   "id": "2bf37f84",
   "metadata": {},
   "outputs": [
    {
     "data": {
      "text/plain": [
       "False"
      ]
     },
     "execution_count": 12,
     "metadata": {},
     "output_type": "execute_result"
    }
   ],
   "source": [
    "game.banker.bust"
   ]
  },
  {
   "cell_type": "code",
   "execution_count": null,
   "id": "34bcc67e",
   "metadata": {},
   "outputs": [],
   "source": []
  }
 ],
 "metadata": {
  "kernelspec": {
   "display_name": "Python 3",
   "language": "python",
   "name": "python3"
  },
  "language_info": {
   "codemirror_mode": {
    "name": "ipython",
    "version": 3
   },
   "file_extension": ".py",
   "mimetype": "text/x-python",
   "name": "python",
   "nbconvert_exporter": "python",
   "pygments_lexer": "ipython3",
   "version": "3.8.8"
  }
 },
 "nbformat": 4,
 "nbformat_minor": 5
}
