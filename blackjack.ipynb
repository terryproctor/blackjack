{
 "cells": [
  {
   "cell_type": "markdown",
   "id": "d228bb05",
   "metadata": {},
   "source": [
    "BlackJack Python Terminal game"
   ]
  },
  {
   "cell_type": "code",
   "execution_count": 1,
   "id": "5dee9b14",
   "metadata": {},
   "outputs": [],
   "source": [
    "import random"
   ]
  },
  {
   "cell_type": "code",
   "execution_count": 2,
   "id": "2fd8ef09",
   "metadata": {},
   "outputs": [],
   "source": [
    "class Deck:\n",
    "    def new_deck(self):\n",
    "        deck = 4*[x for x in range(2, 11)]\n",
    "        deck.sort()\n",
    "        tens = ['J', 'Q', 'K']\n",
    "        ace = 'A'\n",
    "        deck += 4*tens\n",
    "        deck += ['A' for a in range(4)]\n",
    "        return deck\n",
    "    \n",
    "    def __init__(self):\n",
    "        self.cards = self.new_deck()\n",
    "    \n",
    "    def select_random_card(self):\n",
    "        return random.choice(self.cards)\n",
    "    \n",
    "    def deal_card(self, player, card_deck):\n",
    "        if len(card_deck.cards) > 0:\n",
    "            selection = self.select_random_card()\n",
    "            player.cards.append(selection)\n",
    "            card_deck.cards.remove(selection)\n"
   ]
  },
  {
   "cell_type": "code",
   "execution_count": 14,
   "id": "9bff1cc3",
   "metadata": {},
   "outputs": [],
   "source": [
    "class Player:\n",
    "    def __init__(self, chips=0, banker=False, cards=None, value=0):\n",
    "        self.chips = chips\n",
    "        self.banker = banker\n",
    "        self.cards = []\n",
    "        self.value = value\n",
    "        "
   ]
  },
  {
   "cell_type": "code",
   "execution_count": 15,
   "id": "d5c90c3d",
   "metadata": {},
   "outputs": [],
   "source": [
    "class Game:\n",
    "    def __init__(self):\n",
    "        self.player1 = Player(chips=500)\n",
    "        self.banker = Player(banker=True)\n",
    "        self.card_deck = Deck()\n",
    "        "
   ]
  },
  {
   "cell_type": "code",
   "execution_count": 16,
   "id": "ffcd94a4",
   "metadata": {},
   "outputs": [],
   "source": [
    "game = Game()"
   ]
  },
  {
   "cell_type": "code",
   "execution_count": 17,
   "id": "a3f15559",
   "metadata": {},
   "outputs": [
    {
     "data": {
      "text/plain": [
       "9"
      ]
     },
     "execution_count": 17,
     "metadata": {},
     "output_type": "execute_result"
    }
   ],
   "source": [
    "game.card_deck.select_random_card()"
   ]
  },
  {
   "cell_type": "code",
   "execution_count": 18,
   "id": "9c4a0e0c",
   "metadata": {},
   "outputs": [],
   "source": [
    "game.card_deck.deal_card(game.player1, game.card_deck)"
   ]
  },
  {
   "cell_type": "code",
   "execution_count": 19,
   "id": "53fb5e98",
   "metadata": {},
   "outputs": [],
   "source": [
    "game.card_deck.deal_card(game.player1, game.card_deck)"
   ]
  },
  {
   "cell_type": "code",
   "execution_count": 20,
   "id": "9ad1624a",
   "metadata": {},
   "outputs": [
    {
     "data": {
      "text/plain": [
       "[7, 8]"
      ]
     },
     "execution_count": 20,
     "metadata": {},
     "output_type": "execute_result"
    }
   ],
   "source": [
    "game.player1.cards"
   ]
  },
  {
   "cell_type": "code",
   "execution_count": 21,
   "id": "c370fa62",
   "metadata": {},
   "outputs": [],
   "source": [
    "game.card_deck.deal_card(game.banker, game.card_deck)"
   ]
  },
  {
   "cell_type": "code",
   "execution_count": 22,
   "id": "24718ffe",
   "metadata": {},
   "outputs": [],
   "source": [
    "game.card_deck.deal_card(game.banker, game.card_deck)"
   ]
  },
  {
   "cell_type": "code",
   "execution_count": 23,
   "id": "a37f69f6",
   "metadata": {},
   "outputs": [
    {
     "data": {
      "text/plain": [
       "[5, 6]"
      ]
     },
     "execution_count": 23,
     "metadata": {},
     "output_type": "execute_result"
    }
   ],
   "source": [
    "game.banker.cards"
   ]
  },
  {
   "cell_type": "markdown",
   "id": "53ca0305",
   "metadata": {},
   "source": [
    "list gotcha error\n",
    "https://www.codecademy.com/courses/learn-intermediate-python-3/articles/python-gotcha-mutable-default-arguments"
   ]
  },
  {
   "cell_type": "code",
   "execution_count": 24,
   "id": "adc38b59",
   "metadata": {},
   "outputs": [
    {
     "data": {
      "text/plain": [
       "48"
      ]
     },
     "execution_count": 24,
     "metadata": {},
     "output_type": "execute_result"
    }
   ],
   "source": [
    "len(game.card_deck.cards)"
   ]
  },
  {
   "cell_type": "code",
   "execution_count": null,
   "id": "64558eae",
   "metadata": {},
   "outputs": [],
   "source": []
  }
 ],
 "metadata": {
  "kernelspec": {
   "display_name": "Python 3",
   "language": "python",
   "name": "python3"
  },
  "language_info": {
   "codemirror_mode": {
    "name": "ipython",
    "version": 3
   },
   "file_extension": ".py",
   "mimetype": "text/x-python",
   "name": "python",
   "nbconvert_exporter": "python",
   "pygments_lexer": "ipython3",
   "version": "3.8.8"
  }
 },
 "nbformat": 4,
 "nbformat_minor": 5
}
