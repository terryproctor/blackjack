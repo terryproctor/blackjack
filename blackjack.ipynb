{
 "cells": [
  {
   "cell_type": "markdown",
   "id": "d228bb05",
   "metadata": {},
   "source": [
    "BlackJack Python Terminal game"
   ]
  },
  {
   "cell_type": "code",
   "execution_count": 1,
   "id": "5dee9b14",
   "metadata": {},
   "outputs": [],
   "source": [
    "import random"
   ]
  },
  {
   "cell_type": "code",
   "execution_count": 2,
   "id": "2fd8ef09",
   "metadata": {},
   "outputs": [],
   "source": [
    "class Deck:\n",
    "    def new_deck(self):\n",
    "        deck = 4*[x for x in range(2, 11)]\n",
    "        deck.sort()\n",
    "        tens = ['J', 'Q', 'K']\n",
    "        ace = 'A'\n",
    "        deck += 4*tens\n",
    "        deck += ['A' for a in range(4)]\n",
    "        return deck\n",
    "    \n",
    "    def __init__(self):\n",
    "        self.cards = self.new_deck()\n",
    "    \n",
    "    def select_random_card(self):\n",
    "        return random.choice(self.cards)\n",
    "    \n",
    "    def deal_card(self, player):\n",
    "        if len(self.cards) == 0:\n",
    "            self.cards = self.new_deck()\n",
    "        selection = self.select_random_card()\n",
    "        player.cards.append(selection)\n",
    "        self.cards.remove(selection)\n",
    "        return selection\n"
   ]
  },
  {
   "cell_type": "code",
   "execution_count": 3,
   "id": "9bff1cc3",
   "metadata": {},
   "outputs": [],
   "source": [
    "class Player:\n",
    "    def __init__(self, chips=0, banker=False, cards=None, value=0, bust=False, blackjack= False):\n",
    "        self.chips = chips\n",
    "        self.banker = banker\n",
    "        self.cards = []\n",
    "        self.value = value\n",
    "        self.bust = bust\n",
    "        self.blackjack = False\n",
    "        \n",
    "    def check_blackjack(self):\n",
    "        if self.value == 21:\n",
    "            self.blackjack = True\n",
    "            return True\n",
    "    \n",
    "    def check_bust(self):\n",
    "        if self.value > 21:\n",
    "            self.bust = True\n",
    "            return True\n",
    "        else:\n",
    "            self.bust = False\n",
    "            return False\n",
    "    \n",
    "    def check_value(self):\n",
    "        value = 0\n",
    "        tens = ['J', 'Q', 'K']\n",
    "        for card in self.cards:\n",
    "            if card not in tens and card != 'A':\n",
    "                value += card\n",
    "            elif card in tens:\n",
    "                value += 10\n",
    "            elif card == 'A':\n",
    "                if value + 11 <= 21:\n",
    "                    value += 11\n",
    "                else:\n",
    "                    value += 1\n",
    "        self.value = value\n",
    "        print(f\"New card: {card}, total: {self.value}\")\n",
    "        if self.check_bust():\n",
    "            \n",
    "            print(\"You're bust!\")\n",
    "        return value\n",
    "    "
   ]
  },
  {
   "cell_type": "code",
   "execution_count": 4,
   "id": "db5505c1",
   "metadata": {},
   "outputs": [],
   "source": [
    "class Game:\n",
    "    def __init__(self):\n",
    "        self.player1 = Player(chips=500)\n",
    "        self.banker = Player(banker=True)\n",
    "        self.card_deck = Deck()\n",
    "        \n",
    "    \n",
    "    def deal_first_cards(self):\n",
    "        for i in range(2):\n",
    "            self.card_deck.deal_card(self.player1)\n",
    "            self.card_deck.deal_card(self.banker)\n",
    "        self.player1.check_value()\n",
    "        self.banker.check_value()\n",
    "        if self.player1.check_blackjack():\n",
    "            print(\"Player has Blackjack!\")\n",
    "        if self.banker.check_blackjack():\n",
    "            print(\"Banker has Blackjack!\")\n",
    "        \n",
    "        self.display_cards()\n",
    "            \n",
    "    def display_cards(self):\n",
    "        print(f\"Player 1 cards: {self.player1.cards}, value: {self.player1.value}\")\n",
    "        print(f\"Banker cards: {self.banker.cards}, value: {self.banker.value}\")\n",
    "        \n",
    "    def turn(self, player):\n",
    "        # player's go\n",
    "        stick = False\n",
    "        while stick == False:\n",
    "            option = input(\"Do you want to stick or twist?\")\n",
    "            if option == 'twist':\n",
    "                self.card_deck.deal_card(player)\n",
    "                player.check_value()\n",
    "                if player.bust:\n",
    "                    break\n",
    "            if option == 'stick':\n",
    "                stick = True\n",
    "        # banker's go\n",
    "        while player.value > self.banker.value:\n",
    "            self.card_deck.deal_card(self.banker)\n",
    "            self.banker.check_value()\n",
    "            if self.banker.value > player.value:\n",
    "                break\n",
    "            if self.banker.value == 21:\n",
    "                break\n",
    "            if self.banker.bust:\n",
    "                break"
   ]
  },
  {
   "cell_type": "code",
   "execution_count": 5,
   "id": "ffcd94a4",
   "metadata": {},
   "outputs": [],
   "source": [
    "game = Game()"
   ]
  },
  {
   "cell_type": "code",
   "execution_count": 6,
   "id": "b915c957",
   "metadata": {},
   "outputs": [
    {
     "name": "stdout",
     "output_type": "stream",
     "text": [
      "New card: 8, total: 18\n",
      "New card: Q, total: 17\n",
      "Player 1 cards: [10, 8], value: 18\n",
      "Banker cards: [7, 'Q'], value: 17\n"
     ]
    }
   ],
   "source": [
    "game.deal_first_cards()"
   ]
  },
  {
   "cell_type": "code",
   "execution_count": 7,
   "id": "c0e8eee8",
   "metadata": {},
   "outputs": [
    {
     "name": "stdout",
     "output_type": "stream",
     "text": [
      "Do you want to stick or twist?stick\n",
      "New card: 7, total: 24\n",
      "You're bust!\n"
     ]
    }
   ],
   "source": [
    "game.turn(game.player1)"
   ]
  },
  {
   "cell_type": "code",
   "execution_count": 8,
   "id": "d776bf96",
   "metadata": {},
   "outputs": [
    {
     "data": {
      "text/plain": [
       "[10, 8]"
      ]
     },
     "execution_count": 8,
     "metadata": {},
     "output_type": "execute_result"
    }
   ],
   "source": [
    "game.player1.cards"
   ]
  },
  {
   "cell_type": "code",
   "execution_count": 9,
   "id": "b5166821",
   "metadata": {},
   "outputs": [
    {
     "name": "stdout",
     "output_type": "stream",
     "text": [
      "New card: 8, total: 18\n"
     ]
    },
    {
     "data": {
      "text/plain": [
       "18"
      ]
     },
     "execution_count": 9,
     "metadata": {},
     "output_type": "execute_result"
    }
   ],
   "source": [
    "game.player1.check_value()"
   ]
  },
  {
   "cell_type": "code",
   "execution_count": 10,
   "id": "4f174a41",
   "metadata": {},
   "outputs": [
    {
     "data": {
      "text/plain": [
       "18"
      ]
     },
     "execution_count": 10,
     "metadata": {},
     "output_type": "execute_result"
    }
   ],
   "source": [
    "game.player1.value"
   ]
  },
  {
   "cell_type": "code",
   "execution_count": 11,
   "id": "dbe3c637",
   "metadata": {},
   "outputs": [
    {
     "data": {
      "text/plain": [
       "[7, 'Q', 7]"
      ]
     },
     "execution_count": 11,
     "metadata": {},
     "output_type": "execute_result"
    }
   ],
   "source": [
    "game.banker.cards"
   ]
  },
  {
   "cell_type": "code",
   "execution_count": null,
   "id": "51b4bea8",
   "metadata": {},
   "outputs": [],
   "source": []
  }
 ],
 "metadata": {
  "kernelspec": {
   "display_name": "Python 3",
   "language": "python",
   "name": "python3"
  },
  "language_info": {
   "codemirror_mode": {
    "name": "ipython",
    "version": 3
   },
   "file_extension": ".py",
   "mimetype": "text/x-python",
   "name": "python",
   "nbconvert_exporter": "python",
   "pygments_lexer": "ipython3",
   "version": "3.8.8"
  }
 },
 "nbformat": 4,
 "nbformat_minor": 5
}
