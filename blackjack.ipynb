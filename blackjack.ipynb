{
 "cells": [
  {
   "cell_type": "markdown",
   "id": "d228bb05",
   "metadata": {},
   "source": [
    "BlackJack Python Terminal game"
   ]
  },
  {
   "cell_type": "code",
   "execution_count": 1,
   "id": "5dee9b14",
   "metadata": {},
   "outputs": [],
   "source": [
    "import random"
   ]
  },
  {
   "cell_type": "code",
   "execution_count": 2,
   "id": "2fd8ef09",
   "metadata": {},
   "outputs": [],
   "source": [
    "class Deck:\n",
    "    def new_deck(self):\n",
    "        deck = 4*[x for x in range(2, 11)]\n",
    "        deck.sort()\n",
    "        tens = ['J', 'Q', 'K']\n",
    "        ace = 'A'\n",
    "        deck += 4*tens\n",
    "        deck += ['A' for a in range(4)]\n",
    "        return deck\n",
    "    \n",
    "    def __init__(self):\n",
    "        self.cards = self.new_deck()\n",
    "    \n",
    "    def select_random_card(self):\n",
    "        return random.choice(self.cards)\n",
    "    \n",
    "    def deal_card(self, player):\n",
    "        if len(self.cards) == 0:\n",
    "            self.cards = self.new_deck()\n",
    "        selection = self.select_random_card()\n",
    "        player.cards.append(selection)\n",
    "        self.cards.remove(selection)\n"
   ]
  },
  {
   "cell_type": "code",
   "execution_count": 3,
   "id": "9bff1cc3",
   "metadata": {},
   "outputs": [],
   "source": [
    "class Player:\n",
    "    def __init__(self, chips=0, banker=False, cards=None, value=0, bust=False, blackjack= False):\n",
    "        self.chips = chips\n",
    "        self.banker = banker\n",
    "        self.cards = []\n",
    "        self.value = value\n",
    "        self.bust = bust\n",
    "        self.blackjack = False\n",
    "        \n",
    "    def check_blackjack(self):\n",
    "        if self.value == 21:\n",
    "            self.blackjack = True\n",
    "            return True\n",
    "    \n",
    "    def check_bust(self):\n",
    "        if self.value > 21:\n",
    "            self.bust = True\n",
    "            return True\n",
    "        else:\n",
    "            self.bust = False\n",
    "            return False\n",
    "    \n",
    "    def check_value(self):\n",
    "        tens = ['J', 'Q', 'K']\n",
    "        for card in self.cards:\n",
    "            if card not in tens and card != 'A':\n",
    "                self.value += card\n",
    "            elif card in tens:\n",
    "                self.value += 10\n",
    "            elif card == 'A':\n",
    "                if self.value + 11 <= 21:\n",
    "                    self.value += 11\n",
    "                else:\n",
    "                    self.value += 1\n",
    "        self.check_bust()\n",
    "    "
   ]
  },
  {
   "cell_type": "code",
   "execution_count": 4,
   "id": "db5505c1",
   "metadata": {},
   "outputs": [],
   "source": [
    "class Game:\n",
    "    def __init__(self):\n",
    "        self.player1 = Player(chips=500)\n",
    "        self.banker = Player(banker=True)\n",
    "        self.card_deck = Deck()\n",
    "        self.turn = 'player1'\n",
    "    \n",
    "    def deal_first_cards(self):\n",
    "        for i in range(2):\n",
    "            self.card_deck.deal_card(self.player1)\n",
    "            self.card_deck.deal_card(self.banker)\n",
    "        self.player1.check_value()\n",
    "        self.banker.check_value()\n",
    "        if self.player1.check_blackjack():\n",
    "            print(\"Player has Blackjack!\")\n",
    "        if self.banker.check_blackjack():\n",
    "            print(\"Banker has Blackjack!\")\n",
    "        \n",
    "        self.display_cards()\n",
    "            \n",
    "    def display_cards(self):\n",
    "        print(f\"Player 1 cards: {self.player1.cards}, value: {self.player1.value}\")\n",
    "        print(f\"Banker cards: {self.banker.cards}, value: {self.banker.value}\")\n",
    "        \n",
    "    def turn(self):\n",
    "        pass\n",
    "        "
   ]
  },
  {
   "cell_type": "code",
   "execution_count": 5,
   "id": "ffcd94a4",
   "metadata": {},
   "outputs": [],
   "source": [
    "game = Game()"
   ]
  },
  {
   "cell_type": "code",
   "execution_count": 6,
   "id": "b915c957",
   "metadata": {},
   "outputs": [
    {
     "name": "stdout",
     "output_type": "stream",
     "text": [
      "Player has Blackjack!\n",
      "Player 1 cards: ['Q', 'A'], value: 21\n",
      "Banker cards: ['J', 10], value: 20\n"
     ]
    }
   ],
   "source": [
    "game.deal_first_cards()"
   ]
  }
 ],
 "metadata": {
  "kernelspec": {
   "display_name": "Python 3",
   "language": "python",
   "name": "python3"
  },
  "language_info": {
   "codemirror_mode": {
    "name": "ipython",
    "version": 3
   },
   "file_extension": ".py",
   "mimetype": "text/x-python",
   "name": "python",
   "nbconvert_exporter": "python",
   "pygments_lexer": "ipython3",
   "version": "3.8.8"
  }
 },
 "nbformat": 4,
 "nbformat_minor": 5
}
